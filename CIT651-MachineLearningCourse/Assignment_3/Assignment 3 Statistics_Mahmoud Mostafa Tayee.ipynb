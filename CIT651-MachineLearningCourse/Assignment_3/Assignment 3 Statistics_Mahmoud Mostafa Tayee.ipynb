{
 "cells": [
  {
   "cell_type": "code",
   "execution_count": 1,
   "metadata": {},
   "outputs": [],
   "source": [
    "import numpy as np\n",
    "import pandas as pd\n",
    "import math\n",
    "import matplotlib.pyplot as plt\n",
    "from scipy.stats import norm, invgauss"
   ]
  },
  {
   "cell_type": "code",
   "execution_count": 61,
   "metadata": {},
   "outputs": [],
   "source": [
    "def hypothesis_test(x1, x2, alpha):\n",
    "    '''\n",
    "    This function does a hypothesis test over the mean by considering x1 as the population and x2 as the mean. Alpha is the\n",
    "    significance level\n",
    "    Output: lower bound of the critical region, higher bound of the critical region, p-value.\n",
    "    '''\n",
    "    x_bar1 = np.mean(np.array(x2))\n",
    "    mu_nod1 = np.mean(np.array(x1))\n",
    "    sigma1 = np.std(x1)\n",
    "    n1 = len(x1)\n",
    "\n",
    "    z1 = (x_bar1 - mu_nod1)/(sigma1/np.sqrt(n1))\n",
    "    p_value = 2*(1-norm.cdf(z1))\n",
    "    \n",
    "    if p_value <= 0.05:\n",
    "        print(\"H0 is rejected :(\", end = \" \")\n",
    "    else:\n",
    "        print(\"Failed to reject H0\", end = \" \")\n",
    "        \n",
    "    z = norm.ppf(1-0.05/2)\n",
    "    lower_critical_limit = mu_nod2 -(z * (sigma2/np.sqrt(n2))) \n",
    "    upper_critical_limit = mu_nod2 +(z * (sigma2/np.sqrt(n2))) \n",
    "        \n",
    "    print(\"and the value of Pvalue is {}\".format(p_value))\n",
    "    print(\"Lower critical value is {} and upper critical value is {}\".format(lower_critical_limit,  upper_critical_limit))\n",
    "    \n",
    "    plt.hist(x1, bins = 100)\n",
    "    plt.show()\n",
    "    plt.hist(x2, bins = 100)\n",
    "    plt.show()\n",
    "    \n",
    "    return lower_critical_limit, upper_critical_limit, p_value"
   ]
  },
  {
   "cell_type": "code",
   "execution_count": 62,
   "metadata": {},
   "outputs": [
    {
     "name": "stdout",
     "output_type": "stream",
     "text": [
      "Problem 3\n",
      "Failed to reject H0 and the value of Pvalue is 0.8614735881829605\n",
      "Lower critical value is -0.09451612771737694 and upper critical value is 0.029252845815376925\n"
     ]
    },
    {
     "data": {
      "image/png": "[encoded data removed]",
      "text/plain": [
       "<Figure size 432x288 with 1 Axes>"
      ]
     },
     "metadata": {
      "needs_background": "light"
     },
     "output_type": "display_data"
    },
    {
     "data": {
      "image/png": "[encoded data removed]",
      "text/plain": [
       "<Figure size 432x288 with 1 Axes>"
      ]
     },
     "metadata": {
      "needs_background": "light"
     },
     "output_type": "display_data"
    },
    {
     "name": "stdout",
     "output_type": "stream",
     "text": [
      "H0 is rejected :( and the value of Pvalue is 0.00010244978312501374\n",
      "Lower critical value is -0.09451612771737694 and upper critical value is 0.029252845815376925\n"
     ]
    },
    {
     "data": {
      "image/png": "[encoded data removed]",
      "text/plain": [
       "<Figure size 432x288 with 1 Axes>"
      ]
     },
     "metadata": {
      "needs_background": "light"
     },
     "output_type": "display_data"
    },
    {
     "data": {
      "image/png": "[encoded data removed]",
      "text/plain": [
       "<Figure size 432x288 with 1 Axes>"
      ]
     },
     "metadata": {
      "needs_background": "light"
     },
     "output_type": "display_data"
    }
   ],
   "source": [
    "print(\"Problem 3\")\n",
    "\n",
    "x1 = pd.read_csv(\"D:\\\\Not yours\\\\NU\\Master's\\\\Intro to machine learning ans statistical analysis\\\\Assignment 3\\\\Data3-1.txt\", sep=\",\", header=None)\n",
    "x1 = np.array(x1).squeeze(0)\n",
    "\n",
    "x2 = pd.read_csv(\"D:\\\\Not yours\\\\NU\\Master's\\\\Intro to machine learning ans statistical analysis\\\\Assignment 3\\\\Data3-2.txt\", sep=\",\", header=None)\n",
    "x2 = np.array(x2).squeeze(0)\n",
    "\n",
    "x3 = pd.read_csv(\"D:\\\\Not yours\\\\NU\\Master's\\\\Intro to machine learning ans statistical analysis\\\\Assignment 3\\\\Data3-3.txt\", sep=\",\", header=None)\n",
    "x3 = np.array(x3).squeeze(0)\n",
    "\n",
    "lower1, upper1, pvalue1 = hypothesis_test(x1, x2, 0.05)\n",
    "lower2, upper2, pvalue2 = hypothesis_test(x1, x3, 0.05)"
   ]
  }
 ],
 "metadata": {
  "kernelspec": {
   "display_name": "Python 3",
   "language": "python",
   "name": "python3"
  },
  "language_info": {
   "codemirror_mode": {
    "name": "ipython",
    "version": 3
   },
   "file_extension": ".py",
   "mimetype": "text/x-python",
   "name": "python",
   "nbconvert_exporter": "python",
   "pygments_lexer": "ipython3",
   "version": "3.8.5"
  }
 },
 "nbformat": 4,
 "nbformat_minor": 2
}

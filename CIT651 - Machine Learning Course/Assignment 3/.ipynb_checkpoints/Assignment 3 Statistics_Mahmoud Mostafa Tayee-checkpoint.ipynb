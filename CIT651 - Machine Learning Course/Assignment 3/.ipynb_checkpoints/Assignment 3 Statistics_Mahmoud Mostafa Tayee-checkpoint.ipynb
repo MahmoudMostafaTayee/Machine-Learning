{
 "cells": [
  {
   "cell_type": "code",
   "execution_count": 1,
   "metadata": {},
   "outputs": [],
   "source": [
    "import numpy as np\n",
    "import pandas as pd\n",
    "import math\n",
    "import matplotlib.pyplot as plt\n",
    "from scipy.stats import norm, invgauss"
   ]
  },
  {
   "cell_type": "code",
   "execution_count": 2,
   "metadata": {},
   "outputs": [
    {
     "data": {
      "text/plain": [
       "0.0011540500847815327"
      ]
     },
     "execution_count": 2,
     "metadata": {},
     "output_type": "execute_result"
    }
   ],
   "source": [
    "2*(1-norm.cdf(3.25))"
   ]
  },
  {
   "cell_type": "code",
   "execution_count": null,
   "metadata": {
    "collapsed": true
   },
   "outputs": [],
   "source": [
    "def hypothesis_test(x1, x2, alpha):\n",
    "    '''\n",
    "    This function does a hypothesis test over the mean by considering x1 as the population and x2 as the mean. Alpha is the\n",
    "    significance level\n",
    "    Output: lower bound of the critical region, higher bound of the critical region, p-value.\n",
    "    '''\n",
    "    \n",
    "    return lower_critical_limit, upper_critical_limit, pvalue"
   ]
  },
  {
   "cell_type": "code",
   "execution_count": null,
   "metadata": {
    "collapsed": true
   },
   "outputs": [],
   "source": [
    "print(\"Problem 3\")\n",
    "\n",
    "x1 = pd.read_csv('Data3-1.txt', sep=\",\", header=None)\n",
    "x1 = np.array(x1).squeeze(0)\n",
    "\n",
    "x2 = pd.read_csv('Data3-2.txt', sep=\",\", header=None)\n",
    "x2 = np.array(x2).squeeze(0)\n",
    "\n",
    "x3 = pd.read_csv('Data3-3.txt', sep=\",\", header=None)\n",
    "x3 = np.array(x3).squeeze(0)\n",
    "\n",
    "lower1, upper1, pvalue1 = hypothesis_test(x1, x2, 0.05)\n",
    "lower2, upper2, pvalue2 = hypothesis_test(x1, x3, 0.05)"
   ]
  }
 ],
 "metadata": {
  "kernelspec": {
   "display_name": "Python 3",
   "language": "python",
   "name": "python3"
  },
  "language_info": {
   "codemirror_mode": {
    "name": "ipython",
    "version": 3
   },
   "file_extension": ".py",
   "mimetype": "text/x-python",
   "name": "python",
   "nbconvert_exporter": "python",
   "pygments_lexer": "ipython3",
   "version": "3.8.5"
  }
 },
 "nbformat": 4,
 "nbformat_minor": 2
}
